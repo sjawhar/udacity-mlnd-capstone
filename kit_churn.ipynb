{
 "cells": [
  {
   "cell_type": "markdown",
   "metadata": {},
   "source": [
    "# Customer Cancellation Intervention\n",
    "For a subscription-based business, reducing customer churn is critical to maintaining high growth. This project will examine a nearly six month slice of subscription transactions from such a business in an attempt to identify patterns leading to cancellation. The goal is to train a classifier capable of identifying customers at risk of cancellation using details of upcoming subscription transactions.\n",
    "\n",
    "**A note on vocabulary:** A customer of this business purchases a **kit** containing several different products. Each of these products are then **refilled** before expiration as part of the subscription service.\n",
    "\n",
    "## Features\n",
    "1. `RefillNumber`: The ordinality of this transaction in the refill history. For example, `RefillNumber=1` corresponds to a kit's first refill, and the fifth refill will have a `RefillNumber` of `5`.\n",
    "* `RefillAmount`: The cost of this refill.\n",
    "* `RefillItems`: The number of items in this refill.\n",
    "* `AdvancedNotified`: Customers with up-to-date contact information are sent an email 2-4 weeks before their refill is scheduled for delivery. This field indicates which refills were preceded by such a notification.\n",
    "* `KitType`: A kit's type determines the mix of products contained within it.\n",
    "* `KitPurchasePrice`: The purchase price of the kit.\n",
    "* `KitDistributionChannel`: The distribution channel through which the customer purchased the kit. One of `DIRECT`, `DEALER`, or `WEB`.\n",
    "* `CustomerIsCorporate`: Some customers are associate with each other through a larger organization known as a corporation.\n",
    "* `CustomerState`: The US state to which the customer belongs.\n",
    "* `PreviousRefillsAmount`: The sum of the cost of all previous refills for this kit.\n",
    "* `DaysSinceLastRefill`: The number of days since the last refill.\n",
    "* `DaysSinceKitPurchase`: The number of days since the kit was purchased.\n",
    "\n",
    "## Problem Discussion\n",
    "The target column, `ServiceLevelChange`, can be one of `No change`, `Downgraded`, or `Deactivated` and represents the service level change of the kit in the 45 days following the refill. As such, this is a multiclass classification problem. Moreover, as will be explored below, the classes are heavily unbalanced with nearly 98% of the samples belonging to the `No change` class. The choice of performance metric will therefore be critical, as many common metrics perform poorly with unbalanced classes. Finally, due to data integrity issues, purchase information is not available for many kits and will need to be imputed.\n",
    "\n",
    "### Performance Metric\n",
    "It is much more important that the classifier correctly identify the `Downgraded` and `Deactivated` samples than the `No change` samples, as the former two \"at-risk\" classes require intervention while the latter does not. On the other hand, while hardly desired, it is not such a big failing if the classifier over-assigns samples to these at-risk classes, within rease. As such, the performance metric must prioritize true positives of the at-risk clases. Therefore, the classifier will be judged using two performance metrics: recall and precision, both using the `micro` averaging scheme and ignoring the `No change` class. The recall score exactly fits the problem description above, while precision reflects samples falsely assigned to the at-risk classes. Recall will be the primary metric.\n",
    "\n",
    "*See the \"Next Steps\" section of the Conclusion for a potential performance metric based on lifetime customer value.*"
   ]
  },
  {
   "cell_type": "code",
   "execution_count": 1,
   "metadata": {
    "collapsed": false
   },
   "outputs": [
    {
     "data": {
      "text/html": [
       "<div>\n",
       "<table border=\"1\" class=\"dataframe\">\n",
       "  <thead>\n",
       "    <tr style=\"text-align: right;\">\n",
       "      <th></th>\n",
       "      <th>RefillNumber</th>\n",
       "      <th>RefillAmount</th>\n",
       "      <th>RefillItems</th>\n",
       "      <th>AdvancedNotified</th>\n",
       "      <th>KitType</th>\n",
       "      <th>KitPurchasePrice</th>\n",
       "      <th>KitDistributionChannel</th>\n",
       "      <th>CustomerIsCorporate</th>\n",
       "      <th>CustomerState</th>\n",
       "      <th>PreviousRefillsAmount</th>\n",
       "      <th>DaysSinceLastRefill</th>\n",
       "      <th>DaysSinceKitPurchase</th>\n",
       "      <th>ServiceLevelChange</th>\n",
       "    </tr>\n",
       "  </thead>\n",
       "  <tbody>\n",
       "    <tr>\n",
       "      <th>0</th>\n",
       "      <td>21</td>\n",
       "      <td>301.50</td>\n",
       "      <td>2</td>\n",
       "      <td>1</td>\n",
       "      <td>G</td>\n",
       "      <td>NaN</td>\n",
       "      <td>NaN</td>\n",
       "      <td>0</td>\n",
       "      <td>CA</td>\n",
       "      <td>3583.55</td>\n",
       "      <td>120</td>\n",
       "      <td>3083</td>\n",
       "      <td>No change</td>\n",
       "    </tr>\n",
       "    <tr>\n",
       "      <th>1</th>\n",
       "      <td>22</td>\n",
       "      <td>75.33</td>\n",
       "      <td>4</td>\n",
       "      <td>1</td>\n",
       "      <td>G</td>\n",
       "      <td>NaN</td>\n",
       "      <td>NaN</td>\n",
       "      <td>0</td>\n",
       "      <td>CA</td>\n",
       "      <td>3885.05</td>\n",
       "      <td>68</td>\n",
       "      <td>3151</td>\n",
       "      <td>No change</td>\n",
       "    </tr>\n",
       "    <tr>\n",
       "      <th>2</th>\n",
       "      <td>23</td>\n",
       "      <td>301.50</td>\n",
       "      <td>2</td>\n",
       "      <td>0</td>\n",
       "      <td>K</td>\n",
       "      <td>NaN</td>\n",
       "      <td>NaN</td>\n",
       "      <td>0</td>\n",
       "      <td>VA</td>\n",
       "      <td>4661.39</td>\n",
       "      <td>147</td>\n",
       "      <td>3085</td>\n",
       "      <td>No change</td>\n",
       "    </tr>\n",
       "  </tbody>\n",
       "</table>\n",
       "</div>"
      ],
      "text/plain": [
       "   RefillNumber  RefillAmount  RefillItems AdvancedNotified KitType  \\\n",
       "0            21        301.50            2                1       G   \n",
       "1            22         75.33            4                1       G   \n",
       "2            23        301.50            2                0       K   \n",
       "\n",
       "   KitPurchasePrice KitDistributionChannel CustomerIsCorporate CustomerState  \\\n",
       "0               NaN                    NaN                   0            CA   \n",
       "1               NaN                    NaN                   0            CA   \n",
       "2               NaN                    NaN                   0            VA   \n",
       "\n",
       "   PreviousRefillsAmount  DaysSinceLastRefill  DaysSinceKitPurchase  \\\n",
       "0                3583.55                  120                  3083   \n",
       "1                3885.05                   68                  3151   \n",
       "2                4661.39                  147                  3085   \n",
       "\n",
       "  ServiceLevelChange  \n",
       "0          No change  \n",
       "1          No change  \n",
       "2          No change  "
      ]
     },
     "metadata": {},
     "output_type": "display_data"
    },
    {
     "data": {
      "text/html": [
       "<div>\n",
       "<table border=\"1\" class=\"dataframe\">\n",
       "  <thead>\n",
       "    <tr style=\"text-align: right;\">\n",
       "      <th></th>\n",
       "      <th>RefillNumber</th>\n",
       "      <th>RefillAmount</th>\n",
       "      <th>RefillItems</th>\n",
       "      <th>KitPurchasePrice</th>\n",
       "      <th>PreviousRefillsAmount</th>\n",
       "      <th>DaysSinceLastRefill</th>\n",
       "      <th>DaysSinceKitPurchase</th>\n",
       "    </tr>\n",
       "  </thead>\n",
       "  <tbody>\n",
       "    <tr>\n",
       "      <th>count</th>\n",
       "      <td>47489.000000</td>\n",
       "      <td>47489.00000</td>\n",
       "      <td>47489.000000</td>\n",
       "      <td>35154.000000</td>\n",
       "      <td>47489.000000</td>\n",
       "      <td>44431.000000</td>\n",
       "      <td>47489.000000</td>\n",
       "    </tr>\n",
       "    <tr>\n",
       "      <th>mean</th>\n",
       "      <td>8.759523</td>\n",
       "      <td>223.64987</td>\n",
       "      <td>2.788183</td>\n",
       "      <td>376.466930</td>\n",
       "      <td>1686.721326</td>\n",
       "      <td>119.733497</td>\n",
       "      <td>1914.043378</td>\n",
       "    </tr>\n",
       "    <tr>\n",
       "      <th>std</th>\n",
       "      <td>5.656329</td>\n",
       "      <td>164.72680</td>\n",
       "      <td>1.061100</td>\n",
       "      <td>315.602534</td>\n",
       "      <td>1131.503088</td>\n",
       "      <td>105.596982</td>\n",
       "      <td>1809.176829</td>\n",
       "    </tr>\n",
       "    <tr>\n",
       "      <th>min</th>\n",
       "      <td>1.000000</td>\n",
       "      <td>29.45000</td>\n",
       "      <td>1.000000</td>\n",
       "      <td>0.000000</td>\n",
       "      <td>0.000000</td>\n",
       "      <td>0.000000</td>\n",
       "      <td>0.000000</td>\n",
       "    </tr>\n",
       "    <tr>\n",
       "      <th>25%</th>\n",
       "      <td>4.000000</td>\n",
       "      <td>75.50000</td>\n",
       "      <td>2.000000</td>\n",
       "      <td>120.800000</td>\n",
       "      <td>705.380000</td>\n",
       "      <td>63.000000</td>\n",
       "      <td>943.000000</td>\n",
       "    </tr>\n",
       "    <tr>\n",
       "      <th>50%</th>\n",
       "      <td>8.000000</td>\n",
       "      <td>142.06000</td>\n",
       "      <td>3.000000</td>\n",
       "      <td>333.350000</td>\n",
       "      <td>1691.210000</td>\n",
       "      <td>99.000000</td>\n",
       "      <td>1412.000000</td>\n",
       "    </tr>\n",
       "    <tr>\n",
       "      <th>75%</th>\n",
       "      <td>12.000000</td>\n",
       "      <td>322.61000</td>\n",
       "      <td>3.000000</td>\n",
       "      <td>532.100000</td>\n",
       "      <td>2354.540000</td>\n",
       "      <td>154.000000</td>\n",
       "      <td>1945.000000</td>\n",
       "    </tr>\n",
       "    <tr>\n",
       "      <th>max</th>\n",
       "      <td>31.000000</td>\n",
       "      <td>1194.06000</td>\n",
       "      <td>16.000000</td>\n",
       "      <td>3144.950000</td>\n",
       "      <td>7272.910000</td>\n",
       "      <td>2872.000000</td>\n",
       "      <td>42464.000000</td>\n",
       "    </tr>\n",
       "  </tbody>\n",
       "</table>\n",
       "</div>"
      ],
      "text/plain": [
       "       RefillNumber  RefillAmount   RefillItems  KitPurchasePrice  \\\n",
       "count  47489.000000   47489.00000  47489.000000      35154.000000   \n",
       "mean       8.759523     223.64987      2.788183        376.466930   \n",
       "std        5.656329     164.72680      1.061100        315.602534   \n",
       "min        1.000000      29.45000      1.000000          0.000000   \n",
       "25%        4.000000      75.50000      2.000000        120.800000   \n",
       "50%        8.000000     142.06000      3.000000        333.350000   \n",
       "75%       12.000000     322.61000      3.000000        532.100000   \n",
       "max       31.000000    1194.06000     16.000000       3144.950000   \n",
       "\n",
       "       PreviousRefillsAmount  DaysSinceLastRefill  DaysSinceKitPurchase  \n",
       "count           47489.000000         44431.000000          47489.000000  \n",
       "mean             1686.721326           119.733497           1914.043378  \n",
       "std              1131.503088           105.596982           1809.176829  \n",
       "min                 0.000000             0.000000              0.000000  \n",
       "25%               705.380000            63.000000            943.000000  \n",
       "50%              1691.210000            99.000000           1412.000000  \n",
       "75%              2354.540000           154.000000           1945.000000  \n",
       "max              7272.910000          2872.000000          42464.000000  "
      ]
     },
     "metadata": {},
     "output_type": "display_data"
    },
    {
     "data": {
      "text/html": [
       "<div>\n",
       "<table border=\"1\" class=\"dataframe\">\n",
       "  <thead>\n",
       "    <tr style=\"text-align: right;\">\n",
       "      <th></th>\n",
       "      <th>AdvancedNotified</th>\n",
       "      <th>KitType</th>\n",
       "      <th>KitDistributionChannel</th>\n",
       "      <th>CustomerIsCorporate</th>\n",
       "      <th>CustomerState</th>\n",
       "      <th>ServiceLevelChange</th>\n",
       "    </tr>\n",
       "  </thead>\n",
       "  <tbody>\n",
       "    <tr>\n",
       "      <th>count</th>\n",
       "      <td>47489</td>\n",
       "      <td>47489</td>\n",
       "      <td>35154</td>\n",
       "      <td>47489</td>\n",
       "      <td>47489</td>\n",
       "      <td>47489</td>\n",
       "    </tr>\n",
       "    <tr>\n",
       "      <th>unique</th>\n",
       "      <td>2</td>\n",
       "      <td>20</td>\n",
       "      <td>3</td>\n",
       "      <td>2</td>\n",
       "      <td>57</td>\n",
       "      <td>3</td>\n",
       "    </tr>\n",
       "    <tr>\n",
       "      <th>top</th>\n",
       "      <td>0</td>\n",
       "      <td>J</td>\n",
       "      <td>DIRECT</td>\n",
       "      <td>0</td>\n",
       "      <td>CA</td>\n",
       "      <td>No change</td>\n",
       "    </tr>\n",
       "    <tr>\n",
       "      <th>freq</th>\n",
       "      <td>25468</td>\n",
       "      <td>22242</td>\n",
       "      <td>27530</td>\n",
       "      <td>41280</td>\n",
       "      <td>8927</td>\n",
       "      <td>46412</td>\n",
       "    </tr>\n",
       "  </tbody>\n",
       "</table>\n",
       "</div>"
      ],
      "text/plain": [
       "        AdvancedNotified KitType KitDistributionChannel  CustomerIsCorporate  \\\n",
       "count              47489   47489                  35154                47489   \n",
       "unique                 2      20                      3                    2   \n",
       "top                    0       J                 DIRECT                    0   \n",
       "freq               25468   22242                  27530                41280   \n",
       "\n",
       "       CustomerState ServiceLevelChange  \n",
       "count          47489              47489  \n",
       "unique            57                  3  \n",
       "top               CA          No change  \n",
       "freq            8927              46412  "
      ]
     },
     "metadata": {},
     "output_type": "display_data"
    }
   ],
   "source": [
    "# Import refill data\n",
    "import numpy as np\n",
    "import pandas as pd\n",
    "from IPython.display import display\n",
    "refill_data = pd.read_csv('refill_data.csv')\n",
    "category_columns = [\n",
    "    'AdvancedNotified',\n",
    "    'KitType',\n",
    "    'KitDistributionChannel',\n",
    "    'CustomerIsCorporate',\n",
    "    'CustomerState',\n",
    "    'ServiceLevelChange'\n",
    "]\n",
    "for column in category_columns:\n",
    "    refill_data[column] = refill_data[column].astype('object')\n",
    "display(refill_data.head(3))\n",
    "display(refill_data.describe())\n",
    "display(refill_data[category_columns].describe())"
   ]
  },
  {
   "cell_type": "code",
   "execution_count": 2,
   "metadata": {
    "collapsed": false
   },
   "outputs": [
    {
     "name": "stdout",
     "output_type": "stream",
     "text": [
      "(47489, 12)\n",
      "(47489,)\n"
     ]
    }
   ],
   "source": [
    "# Separate data into features (X) and target (y)\n",
    "X_raw = refill_data[list(refill_data.columns[:-1])]\n",
    "y_all = refill_data[refill_data.columns[-1]]\n",
    "print X_raw.shape\n",
    "print y_all.shape"
   ]
  },
  {
   "cell_type": "code",
   "execution_count": 3,
   "metadata": {
    "collapsed": false
   },
   "outputs": [
    {
     "name": "stdout",
     "output_type": "stream",
     "text": [
      "Total refills: 47489\n",
      "Service level changes within 45 days of refill:\n"
     ]
    },
    {
     "data": {
      "text/html": [
       "<div>\n",
       "<table border=\"1\" class=\"dataframe\">\n",
       "  <thead>\n",
       "    <tr style=\"text-align: right;\">\n",
       "      <th></th>\n",
       "      <th>percentage</th>\n",
       "      <th>samples</th>\n",
       "    </tr>\n",
       "  </thead>\n",
       "  <tbody>\n",
       "    <tr>\n",
       "      <th>No change</th>\n",
       "      <td>97.732106</td>\n",
       "      <td>46412</td>\n",
       "    </tr>\n",
       "    <tr>\n",
       "      <th>Downgraded</th>\n",
       "      <td>1.981512</td>\n",
       "      <td>941</td>\n",
       "    </tr>\n",
       "    <tr>\n",
       "      <th>Deactivated</th>\n",
       "      <td>0.286382</td>\n",
       "      <td>136</td>\n",
       "    </tr>\n",
       "  </tbody>\n",
       "</table>\n",
       "</div>"
      ],
      "text/plain": [
       "             percentage  samples\n",
       "No change     97.732106    46412\n",
       "Downgraded     1.981512      941\n",
       "Deactivated    0.286382      136"
      ]
     },
     "metadata": {},
     "output_type": "display_data"
    }
   ],
   "source": [
    "# Investigate problem severity\n",
    "from IPython.display import display\n",
    "print \"Total refills: {}\".format(y_all.count())\n",
    "print \"Service level changes within 45 days of refill:\"\n",
    "class_count = pd.DataFrame({\n",
    "    'samples': y_all.value_counts(),\n",
    "    'percentage': 100*y_all.value_counts()/y_all.count()\n",
    "})\n",
    "display(class_count)"
   ]
  },
  {
   "cell_type": "code",
   "execution_count": 4,
   "metadata": {
    "collapsed": false
   },
   "outputs": [
    {
     "name": "stdout",
     "output_type": "stream",
     "text": [
      "Installed disable_autoscroll.py. To use it, type:\n",
      "  %load_ext disable_autoscroll\n"
     ]
    },
    {
     "name": "stderr",
     "output_type": "stream",
     "text": [
      "/opt/conda/envs/python2/lib/python2.7/site-packages/IPython/core/magics/extension.py:47: UserWarning: %install_ext` is deprecated, please distribute your extension as a python package.\n",
      "  \"as a python package.\", UserWarning)\n"
     ]
    },
    {
     "data": {
      "application/javascript": [
       "\n",
       "IPython.OutputArea.prototype._should_scroll = function(lines) {\n",
       "    return false;\n",
       "}\n"
      ],
      "text/plain": [
       "<IPython.core.display.Javascript object>"
      ]
     },
     "metadata": {},
     "output_type": "display_data"
    },
    {
     "name": "stdout",
     "output_type": "stream",
     "text": [
      "autoscrolling long output is disabled\n"
     ]
    },
    {
     "data": {
      "image/png": "[encoded data removed]",
      "text/plain": [
       "<matplotlib.figure.Figure at 0x7efc8c884690>"
      ]
     },
     "metadata": {},
     "output_type": "display_data"
    },
    {
     "data": {
      "image/png": "[encoded data removed]",
      "text/plain": [
       "<matplotlib.figure.Figure at 0x7efc89ff6490>"
      ]
     },
     "metadata": {},
     "output_type": "display_data"
    },
    {
     "data": {
      "image/png": "[encoded data removed]",
      "text/plain": [
       "<matplotlib.figure.Figure at 0x7efc89e4b210>"
      ]
     },
     "metadata": {},
     "output_type": "display_data"
    },
    {
     "data": {
      "image/png": "[encoded data removed]",
      "text/plain": [
       "<matplotlib.figure.Figure at 0x7efc89ef0f90>"
      ]
     },
     "metadata": {},
     "output_type": "display_data"
    },
    {
     "data": {
      "image/png": "[encoded data removed]",
      "text/plain": [
       "<matplotlib.figure.Figure at 0x7efc89c86f50>"
      ]
     },
     "metadata": {},
     "output_type": "display_data"
    },
    {
     "data": {
      "image/png": "[encoded data removed]",
      "text/plain": [
       "<matplotlib.figure.Figure at 0x7efc89fb1090>"
      ]
     },
     "metadata": {},
     "output_type": "display_data"
    },
    {
     "data": {
      "image/png": "[encoded data removed]",
      "text/plain": [
       "<matplotlib.figure.Figure at 0x7efc89ef9a90>"
      ]
     },
     "metadata": {},
     "output_type": "display_data"
    },
    {
     "data": {
      "image/png": "[encoded data removed]",
      "text/plain": [
       "<matplotlib.figure.Figure at 0x7efc89946cd0>"
      ]
     },
     "metadata": {},
     "output_type": "display_data"
    },
    {
     "data": {
      "image/png": "[encoded data removed]",
      "text/plain": [
       "<matplotlib.figure.Figure at 0x7efc898c1f10>"
      ]
     },
     "metadata": {},
     "output_type": "display_data"
    },
    {
     "data": {
      "image/png": "[encoded data removed]",
      "text/plain": [
       "<matplotlib.figure.Figure at 0x7efc898d2950>"
      ]
     },
     "metadata": {},
     "output_type": "display_data"
    },
    {
     "data": {
      "image/png": "[encoded data removed]",
      "text/plain": [
       "<matplotlib.figure.Figure at 0x7efc89f84e90>"
      ]
     },
     "metadata": {},
     "output_type": "display_data"
    },
    {
     "data": {
      "image/png": "[encoded data removed]",
      "text/plain": [
       "<matplotlib.figure.Figure at 0x7efc89f84690>"
      ]
     },
     "metadata": {},
     "output_type": "display_data"
    }
   ],
   "source": [
    "import matplotlib.pyplot as plt\n",
    "%matplotlib inline\n",
    "%install_ext https://raw.githubusercontent.com/minrk/ipython_extensions/master/extensions/disable_autoscroll.py\n",
    "%load_ext disable_autoscroll\n",
    "for col, col_data in X_raw.iteritems():\n",
    "    plt.figure(figsize=(16,3))\n",
    "    if col in category_columns:\n",
    "        values = [x for x in col_data.unique() if x == x]\n",
    "        index = np.arange(len(values))\n",
    "        counts = list(col_data[col_data == value].count() for value in values)\n",
    "        bar_width = 0.8\n",
    "        \n",
    "        plt.bar(index, counts, bar_width)\n",
    "        plt.xticks(index + bar_width/2, values)\n",
    "    else:\n",
    "        bins = range(col_data.max() + 1) if len(col_data.unique()) < 100 else 100\n",
    "        plot_data = [x for x in col_data.values if not np.isnan(x)]\n",
    "        plt.hist(plot_data, bins=bins, range=[0, min(col_data.max(), col_data.mean() + 3*col_data.std())])\n",
    "    plt.title(col)\n",
    "    plt.show()"
   ]
  },
  {
   "cell_type": "markdown",
   "metadata": {},
   "source": [
    "## Data Discussion\n",
    "`RefillNumber` is fairly evenly distributed at the lower end, with between 6% and 8% of the samples belonging to each `RefillNumber` value up to 12, after which it drops off sharply. `PreviousRefillsAmount` shares a similar distribution, dropping off after around \\$2,500, which indicates a fairly consistent refill price. This is confirmed by examining the distribution of `RefillAmount`, which is heavily concentrated around \\$100, \\$300, and \\$550. Also very consistent is the number of items contained in the refill, with nearly all of the samples having a `RefillItems` value of either 2, 3, or 4.\n",
    "\n",
    "The distributions of `RefillNumber`, `PreviousRefillsAmount`, and `DaysSinceKitPurchase` seem to indicate that there are two distinct kit groups. Most of the samples belong to kits sold in the past few years. However, there is also a smaller group of long-standing installs. The behavior of these two groups might differ significantly.\n",
    "\n",
    "Other notes:\n",
    "* `DaysSinceLastRefill` seems almost normally distributed around 60 days, though it is definitely skewed to the right.\n",
    "* In contrast, `DaysSinceKitPurchase` is heavily concentrated around 1,500 days.\n",
    "* Around half of the refills were preceded by a notification.\n",
    "* Around 60% of the refills belong to kits that were sold directly to the customer.\n",
    "* Almost half of the samples belong to `KitType` J, and nearly all of the samples belong to `KitType` G, J, K, or P.\n",
    "* Over one-fifth of the samples belong to customers in California, with Texas coming in second place at around one-tenth. The other states are relatively evenly distributed."
   ]
  },
  {
   "cell_type": "markdown",
   "metadata": {},
   "source": [
    "## Feature Preprocessing"
   ]
  },
  {
   "cell_type": "code",
   "execution_count": 35,
   "metadata": {
    "collapsed": false
   },
   "outputs": [
    {
     "data": {
      "text/html": [
       "<div>\n",
       "<table border=\"1\" class=\"dataframe\">\n",
       "  <thead>\n",
       "    <tr style=\"text-align: right;\">\n",
       "      <th></th>\n",
       "      <th>RefillNumber</th>\n",
       "      <th>RefillAmount</th>\n",
       "      <th>RefillItems</th>\n",
       "      <th>AdvancedNotified</th>\n",
       "      <th>KitType_A</th>\n",
       "      <th>KitType_B</th>\n",
       "      <th>KitType_C</th>\n",
       "      <th>KitType_D</th>\n",
       "      <th>KitType_E</th>\n",
       "      <th>KitType_F</th>\n",
       "      <th>...</th>\n",
       "      <th>CustomerState_VA</th>\n",
       "      <th>CustomerState_VI</th>\n",
       "      <th>CustomerState_VT</th>\n",
       "      <th>CustomerState_WA</th>\n",
       "      <th>CustomerState_WI</th>\n",
       "      <th>CustomerState_WV</th>\n",
       "      <th>CustomerState_WY</th>\n",
       "      <th>PreviousRefillsAmount</th>\n",
       "      <th>RefillFrequency</th>\n",
       "      <th>DaysSinceKitPurchase</th>\n",
       "    </tr>\n",
       "  </thead>\n",
       "  <tbody>\n",
       "    <tr>\n",
       "      <th>0</th>\n",
       "      <td>21</td>\n",
       "      <td>301.50</td>\n",
       "      <td>2</td>\n",
       "      <td>1</td>\n",
       "      <td>0</td>\n",
       "      <td>0</td>\n",
       "      <td>0</td>\n",
       "      <td>0</td>\n",
       "      <td>0</td>\n",
       "      <td>0</td>\n",
       "      <td>...</td>\n",
       "      <td>0</td>\n",
       "      <td>0</td>\n",
       "      <td>0</td>\n",
       "      <td>0</td>\n",
       "      <td>0</td>\n",
       "      <td>0</td>\n",
       "      <td>0</td>\n",
       "      <td>3583.55</td>\n",
       "      <td>0.008333</td>\n",
       "      <td>3083</td>\n",
       "    </tr>\n",
       "    <tr>\n",
       "      <th>1</th>\n",
       "      <td>22</td>\n",
       "      <td>75.33</td>\n",
       "      <td>4</td>\n",
       "      <td>1</td>\n",
       "      <td>0</td>\n",
       "      <td>0</td>\n",
       "      <td>0</td>\n",
       "      <td>0</td>\n",
       "      <td>0</td>\n",
       "      <td>0</td>\n",
       "      <td>...</td>\n",
       "      <td>0</td>\n",
       "      <td>0</td>\n",
       "      <td>0</td>\n",
       "      <td>0</td>\n",
       "      <td>0</td>\n",
       "      <td>0</td>\n",
       "      <td>0</td>\n",
       "      <td>3885.05</td>\n",
       "      <td>0.014706</td>\n",
       "      <td>3151</td>\n",
       "    </tr>\n",
       "    <tr>\n",
       "      <th>2</th>\n",
       "      <td>23</td>\n",
       "      <td>301.50</td>\n",
       "      <td>2</td>\n",
       "      <td>0</td>\n",
       "      <td>0</td>\n",
       "      <td>0</td>\n",
       "      <td>0</td>\n",
       "      <td>0</td>\n",
       "      <td>0</td>\n",
       "      <td>0</td>\n",
       "      <td>...</td>\n",
       "      <td>1</td>\n",
       "      <td>0</td>\n",
       "      <td>0</td>\n",
       "      <td>0</td>\n",
       "      <td>0</td>\n",
       "      <td>0</td>\n",
       "      <td>0</td>\n",
       "      <td>4661.39</td>\n",
       "      <td>0.006803</td>\n",
       "      <td>3085</td>\n",
       "    </tr>\n",
       "    <tr>\n",
       "      <th>3</th>\n",
       "      <td>24</td>\n",
       "      <td>129.40</td>\n",
       "      <td>3</td>\n",
       "      <td>0</td>\n",
       "      <td>0</td>\n",
       "      <td>0</td>\n",
       "      <td>0</td>\n",
       "      <td>0</td>\n",
       "      <td>0</td>\n",
       "      <td>0</td>\n",
       "      <td>...</td>\n",
       "      <td>1</td>\n",
       "      <td>0</td>\n",
       "      <td>0</td>\n",
       "      <td>0</td>\n",
       "      <td>0</td>\n",
       "      <td>0</td>\n",
       "      <td>0</td>\n",
       "      <td>4962.89</td>\n",
       "      <td>0.022222</td>\n",
       "      <td>3130</td>\n",
       "    </tr>\n",
       "    <tr>\n",
       "      <th>4</th>\n",
       "      <td>2</td>\n",
       "      <td>326.78</td>\n",
       "      <td>3</td>\n",
       "      <td>0</td>\n",
       "      <td>0</td>\n",
       "      <td>0</td>\n",
       "      <td>0</td>\n",
       "      <td>0</td>\n",
       "      <td>0</td>\n",
       "      <td>0</td>\n",
       "      <td>...</td>\n",
       "      <td>0</td>\n",
       "      <td>0</td>\n",
       "      <td>0</td>\n",
       "      <td>0</td>\n",
       "      <td>0</td>\n",
       "      <td>0</td>\n",
       "      <td>0</td>\n",
       "      <td>69.58</td>\n",
       "      <td>0.014925</td>\n",
       "      <td>3128</td>\n",
       "    </tr>\n",
       "  </tbody>\n",
       "</table>\n",
       "<p>5 rows × 89 columns</p>\n",
       "</div>"
      ],
      "text/plain": [
       "   RefillNumber  RefillAmount  RefillItems  AdvancedNotified  KitType_A  \\\n",
       "0            21        301.50            2                 1          0   \n",
       "1            22         75.33            4                 1          0   \n",
       "2            23        301.50            2                 0          0   \n",
       "3            24        129.40            3                 0          0   \n",
       "4             2        326.78            3                 0          0   \n",
       "\n",
       "   KitType_B  KitType_C  KitType_D  KitType_E  KitType_F  \\\n",
       "0          0          0          0          0          0   \n",
       "1          0          0          0          0          0   \n",
       "2          0          0          0          0          0   \n",
       "3          0          0          0          0          0   \n",
       "4          0          0          0          0          0   \n",
       "\n",
       "           ...           CustomerState_VA  CustomerState_VI  CustomerState_VT  \\\n",
       "0          ...                          0                 0                 0   \n",
       "1          ...                          0                 0                 0   \n",
       "2          ...                          1                 0                 0   \n",
       "3          ...                          1                 0                 0   \n",
       "4          ...                          0                 0                 0   \n",
       "\n",
       "   CustomerState_WA  CustomerState_WI  CustomerState_WV  CustomerState_WY  \\\n",
       "0                 0                 0                 0                 0   \n",
       "1                 0                 0                 0                 0   \n",
       "2                 0                 0                 0                 0   \n",
       "3                 0                 0                 0                 0   \n",
       "4                 0                 0                 0                 0   \n",
       "\n",
       "   PreviousRefillsAmount  RefillFrequency  DaysSinceKitPurchase  \n",
       "0                3583.55         0.008333                  3083  \n",
       "1                3885.05         0.014706                  3151  \n",
       "2                4661.39         0.006803                  3085  \n",
       "3                4962.89         0.022222                  3130  \n",
       "4                  69.58         0.014925                  3128  \n",
       "\n",
       "[5 rows x 89 columns]"
      ]
     },
     "execution_count": 35,
     "metadata": {},
     "output_type": "execute_result"
    }
   ],
   "source": [
    "# Impute missing values by class\n",
    "# Impute numerical with mean, categorical with mode\n",
    "# TODO: Ensure index order is maintained\n",
    "X_imputed = pd.DataFrame()\n",
    "results = y_all.unique()\n",
    "for result in results:\n",
    "    X_class = X_raw[y_all == result]\n",
    "    X_class_imputed = pd.DataFrame(index = X_class.index)\n",
    "    for col, col_data in X_class.iteritems():\n",
    "        fill_value = col_data.mode()[0] if col_data.dtype == object else col_data.mean()\n",
    "        X_class_imputed = X_class_imputed.join(col_data.fillna(fill_value))\n",
    "    X_imputed = X_imputed.append(X_class_imputed, verify_integrity = True)\n",
    "    \n",
    "X_all = pd.DataFrame(index = X_imputed.index)\n",
    "for col, col_data in X_imputed.iteritems():\n",
    "    # Transform DaysSinceLastRefill to reciprocal, fill NULL with 0\n",
    "    # TODO: Look for NaN results\n",
    "    if col == 'DaysSinceLastRefill':\n",
    "        col_data = X_raw[col].rtruediv(1).fillna(0)\n",
    "        col_data.name = 'RefillFrequency'\n",
    "    # Split categorical features into multiple binary columns\n",
    "    elif col_data.dtype == object and set(col_data.unique()) != set([0,1]):\n",
    "        col_data = pd.get_dummies(col_data, prefix=col)\n",
    "    X_all = X_all.join(col_data)\n",
    "    \n",
    "X_all.head()"
   ]
  },
  {
   "cell_type": "markdown",
   "metadata": {},
   "source": [
    "## Algorithm Selection\n",
    "Scalability is the name of the game, here. With nearly 48,000 samples on which to train, and more assuredly available in a production environment, the algorithm chosen must scale well in the number of samples. In addition, the algorithm must scale well in the number of features. We've identified 10 features to start with but that might, and probably will, grow quickly as the understanding of customer behavior improves. The number of features will likely never outgrow the number of samples, however.\n",
    "\n",
    "The final model will be used to predict the result of upcoming refills on demand. A quick prediction time is therefore very important, and will it will only become more important as the customer base grows. Lazy learners would therefore not be suitable for this problem. On the other hand, training time is not a significant factor. As new data becomes available, the model can be retrained asynchronously and pushed to live when ready. Online learners would be ideal in this situation, as the true results of each refill are available after 45 days and the model could then be updated with the new information.\n",
    "\n",
    "Based on the above, and by consulting the sklearn documentation on choosing an estimator, the following algorithms will be trained and tested:\n",
    "* Linear SVC\n",
    "* SGD Classifier\n",
    "* Decision Trees (including random forest)"
   ]
  },
  {
   "cell_type": "code",
   "execution_count": 34,
   "metadata": {
    "collapsed": false
   },
   "outputs": [
    {
     "name": "stderr",
     "output_type": "stream",
     "text": [
      "/opt/conda/envs/python2/lib/python2.7/site-packages/sklearn/metrics/classification.py:1074: UndefinedMetricWarning: Precision is ill-defined and being set to 0.0 due to no predicted samples.\n",
      "  'precision', 'predicted', average, warn_for)\n",
      "/opt/conda/envs/python2/lib/python2.7/site-packages/sklearn/metrics/classification.py:1074: UndefinedMetricWarning: Precision is ill-defined and being set to 0.0 due to no predicted samples.\n",
      "  'precision', 'predicted', average, warn_for)\n",
      "/opt/conda/envs/python2/lib/python2.7/site-packages/sklearn/metrics/classification.py:1074: UndefinedMetricWarning: Precision is ill-defined and being set to 0.0 due to no predicted samples.\n",
      "  'precision', 'predicted', average, warn_for)\n"
     ]
    },
    {
     "data": {
      "text/html": [
       "<div>\n",
       "<table border=\"1\" class=\"dataframe\">\n",
       "  <thead>\n",
       "    <tr style=\"text-align: right;\">\n",
       "      <th></th>\n",
       "      <th>classifier</th>\n",
       "      <th>recall</th>\n",
       "      <th>precision</th>\n",
       "    </tr>\n",
       "  </thead>\n",
       "  <tbody>\n",
       "    <tr>\n",
       "      <th>0</th>\n",
       "      <td>LinearSVC</td>\n",
       "      <td>0.000000</td>\n",
       "      <td>0.000000</td>\n",
       "    </tr>\n",
       "    <tr>\n",
       "      <th>1</th>\n",
       "      <td>SGDClassifier</td>\n",
       "      <td>0.003484</td>\n",
       "      <td>0.062500</td>\n",
       "    </tr>\n",
       "    <tr>\n",
       "      <th>2</th>\n",
       "      <td>DecisionTreeClassifier</td>\n",
       "      <td>0.031323</td>\n",
       "      <td>0.026045</td>\n",
       "    </tr>\n",
       "    <tr>\n",
       "      <th>3</th>\n",
       "      <td>RandomForestClassifier</td>\n",
       "      <td>0.002323</td>\n",
       "      <td>0.018750</td>\n",
       "    </tr>\n",
       "  </tbody>\n",
       "</table>\n",
       "</div>"
      ],
      "text/plain": [
       "               classifier    recall  precision\n",
       "0               LinearSVC  0.000000   0.000000\n",
       "1           SGDClassifier  0.003484   0.062500\n",
       "2  DecisionTreeClassifier  0.031323   0.026045\n",
       "3  RandomForestClassifier  0.002323   0.018750"
      ]
     },
     "metadata": {},
     "output_type": "display_data"
    }
   ],
   "source": [
    "# Train classifier\n",
    "from sklearn.metrics import recall_score, precision_score, make_scorer\n",
    "from sklearn.cross_validation import train_test_split, cross_val_score\n",
    "from sklearn.svm import LinearSVC\n",
    "from sklearn.linear_model import SGDClassifier\n",
    "from sklearn.tree import DecisionTreeClassifier\n",
    "from sklearn.ensemble import RandomForestClassifier\n",
    "\n",
    "recall_scorer = make_scorer(recall_score, labels=['Deactivated', 'Downgraded'], average='micro')\n",
    "precision_scorer = make_scorer(precision_score, labels=['Deactivated', 'Downgraded'], average='micro')\n",
    "    \n",
    "results = []\n",
    "classifiers = [\n",
    "    LinearSVC(dual=False),\n",
    "    SGDClassifier(),\n",
    "    DecisionTreeClassifier(),\n",
    "    RandomForestClassifier()\n",
    "]\n",
    "X_train, X_test, y_train, y_test = train_test_split(X_all, y_all, test_size=0.2, stratify=y_all)\n",
    "for clf in classifiers:\n",
    "    classifier = clf.__class__.__name__\n",
    "    recall = cross_val_score(clf, X_train, y_train, scoring=recall_scorer, n_jobs=-1)\n",
    "    precision = cross_val_score(clf, X_train, y_train, scoring=precision_scorer, n_jobs=-1)\n",
    "    results.append([classifier, recall.mean(), precision.mean()])\n",
    "    \n",
    "results = pd.DataFrame(\n",
    "    data = results,\n",
    "    columns = [\n",
    "        'classifier',\n",
    "        'recall',\n",
    "        'precision'\n",
    "    ]\n",
    ")\n",
    "\n",
    "display(results)"
   ]
  },
  {
   "cell_type": "code",
   "execution_count": 14,
   "metadata": {
    "collapsed": false
   },
   "outputs": [
    {
     "name": "stdout",
     "output_type": "stream",
     "text": [
      "Best LinearSVC recall: 0.470299747149\n",
      "{'loss': 'squared_hinge', 'C': 1.0, 'multi_class': 'crammer_singer'}\n",
      "Precision: 0.0218225060069\n"
     ]
    }
   ],
   "source": [
    "from sklearn.grid_search import GridSearchCV\n",
    "from sklearn.svm import LinearSVC\n",
    "parameters = {\n",
    "    'C': (0.1, 0.5, 1.0, 1.5, 2.5, 5.0, 7.5, 10),\n",
    "    'loss': ('hinge', 'squared_hinge'),\n",
    "    'multi_class': ('ovr', 'crammer_singer')\n",
    "}\n",
    "clf = GridSearchCV(LinearSVC(), parameters, scoring=recall_scorer, n_jobs=-1)\n",
    "clf.fit(X_train, y_train)\n",
    "print \"Best LinearSVC recall: {}\".format(clf.best_score_)\n",
    "print clf.best_params_\n",
    "precision = cross_val_score(clf.best_estimator_, X_train, y_train, scoring=precision_scorer, n_jobs=-1)\n",
    "print \"Precision: {}\".format(precision.mean())"
   ]
  },
  {
   "cell_type": "code",
   "execution_count": 11,
   "metadata": {
    "collapsed": false
   },
   "outputs": [
    {
     "name": "stdout",
     "output_type": "stream",
     "text": [
      "Best DecisionTreeClassifier score: 0.0892452697591\n",
      "{'max_features': None, 'min_samples_split': 0.2, 'criterion': 'gini', 'max_depth': None}\n",
      "Precision: 0.0714274405497\n"
     ]
    }
   ],
   "source": [
    "from sklearn.grid_search import GridSearchCV\n",
    "from sklearn.tree import DecisionTreeClassifier\n",
    "parameters = [\n",
    "    {\n",
    "        'criterion': ('gini', 'entropy'),\n",
    "        'max_features': ('sqrt', 'log2', None),\n",
    "        'max_depth': (3, 4, 5, 6, 7, 8, 9, 10, None),\n",
    "        'min_samples_split': (0.01, 0.025, 0.05, 0.075, 0.1, 0.15, 0.2)\n",
    "    }\n",
    "]\n",
    "clf = GridSearchCV(DecisionTreeClassifier(), parameters, scoring=recall_scorer, n_jobs=-1)\n",
    "clf.fit(X_train, y_train)\n",
    "print \"Best DecisionTreeClassifier score: {}\".format(clf.best_score_)\n",
    "print clf.best_params_\n",
    "precision = cross_val_score(clf.best_estimator_, X_train, y_train, scoring=precision_scorer, n_jobs=-1)\n",
    "print \"Precision: {}\".format(precision.mean())"
   ]
  },
  {
   "cell_type": "code",
   "execution_count": 15,
   "metadata": {
    "collapsed": false
   },
   "outputs": [
    {
     "name": "stdout",
     "output_type": "stream",
     "text": [
      "Best RandomForestClassifier score: 0.0255030858219\n",
      "{'max_features': None, 'min_samples_split': 10, 'criterion': 'entropy', 'max_depth': None, 'n_estimators': 5}\n",
      "Precision: 0.175949606896\n"
     ]
    }
   ],
   "source": [
    "from sklearn.grid_search import GridSearchCV\n",
    "from sklearn.ensemble import RandomForestClassifier\n",
    "parameters = [\n",
    "    {\n",
    "        'n_estimators': (2, 5, 10, 15, 20, 25, 50, 75, 100),\n",
    "        'criterion': ('gini', 'entropy'),\n",
    "        'max_features': ('sqrt', 'log2', None),\n",
    "        'max_depth': (3, 4, 5, 6, 7, 8, 9, 10, None),\n",
    "        'min_samples_split': (2, 5, 10, 25, 50, 75, 100, 150, 200, 250, 500, 1000)\n",
    "    }\n",
    "]\n",
    "clf = GridSearchCV(RandomForestClassifier(), parameters, scoring=recall_scorer, n_jobs=-1)\n",
    "clf.fit(X_train, y_train)\n",
    "print \"Best RandomForestClassifier score: {}\".format(clf.best_score_)\n",
    "print clf.best_params_\n",
    "precision = cross_val_score(clf.best_estimator_, X_train, y_train, scoring=precision_scorer, n_jobs=-1)\n",
    "print \"Precision: {}\".format(precision.mean())"
   ]
  },
  {
   "cell_type": "code",
   "execution_count": 8,
   "metadata": {
    "collapsed": false
   },
   "outputs": [
    {
     "name": "stdout",
     "output_type": "stream",
     "text": [
      "Best SGDClassifier score: 0.485292887622\n",
      "{'warm_start': True, 'n_iter': 50, 'loss': 'modified_huber', 'l1_ratio': 0.9, 'fit_intercept': True, 'penalty': 'l2', 'alpha': 0.0001}\n",
      "Precision: 0.0138888888889\n"
     ]
    }
   ],
   "source": [
    "from sklearn.grid_search import GridSearchCV\n",
    "from sklearn.linear_model import SGDClassifier\n",
    "parameters = [\n",
    "    {\n",
    "        'loss': ('hinge', 'log', 'modified_huber', 'squared_hinge'),\n",
    "        'penalty': ('none', 'l2', 'l1', 'elasticnet'),\n",
    "        'alpha': (0.0001, 0.001, 0.01),\n",
    "        'l1_ratio': (0.0, 0.15, 0.3, 0.45, 0.6, 0.75, 0.9, 1.0),\n",
    "        'fit_intercept': (True, False),\n",
    "        'n_iter': (1, 5, 10, 50, 100),\n",
    "        'warm_start': (True, False)\n",
    "    }\n",
    "]\n",
    "clf = GridSearchCV(SGDClassifier(), parameters, scoring=recall_scorer, n_jobs=-1)\n",
    "clf.fit(X_train, y_train)\n",
    "print \"Best SGDClassifier score: {}\".format(clf.best_score_)\n",
    "print clf.best_params_\n",
    "precision = cross_val_score(clf.best_estimator_, X_train, y_train, scoring=precision_scorer, n_jobs=-1)\n",
    "print \"Precision: {}\".format(precision.mean())"
   ]
  },
  {
   "cell_type": "code",
   "execution_count": null,
   "metadata": {
    "collapsed": true
   },
   "outputs": [],
   "source": []
  }
 ],
 "metadata": {
  "kernelspec": {
   "display_name": "Python 2",
   "language": "python",
   "name": "python2"
  },
  "language_info": {
   "codemirror_mode": {
    "name": "ipython",
    "version": 2
   },
   "file_extension": ".py",
   "mimetype": "text/x-python",
   "name": "python",
   "nbconvert_exporter": "python",
   "pygments_lexer": "ipython2",
   "version": "2.7.11"
  },
  "widgets": {
   "state": {},
   "version": "1.1.2"
  }
 },
 "nbformat": 4,
 "nbformat_minor": 0
}
