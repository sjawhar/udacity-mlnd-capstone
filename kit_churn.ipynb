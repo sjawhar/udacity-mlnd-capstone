{
 "cells": [
  {
   "cell_type": "markdown",
   "metadata": {},
   "source": [
    "# Customer Cancellation Intervention\n",
    "For a subscription-based business, reducing customer churn is critical to maintaining high growth. This project will examine a nearly six month slice of subscription transactions from such a business in an attempt to identify patterns leading to cancellation.\n",
    "\n",
    "**A note on vocabulary:** A customer of this business purchases a **kit** containing several different products. Each of these products are then **refilled** before expiration as part of the subscription service.\n",
    "\n",
    "## Features\n",
    "1. `RefillNumber`: The ordinality of this transaction in the refill history. For example, `RefillNumber=1` corresponds to a kit's first refill, and the fifth refill will have a `RefillNumber` of `5`.\n",
    "* `RefillAmount`: The cost of this refill.\n",
    "* `AdvancedNotified`: Customers with up-to-date contact information are sent an email 2-4 weeks before their refill is scheduled for delivery. This field indicates which refills were preceded by such a notification.\n",
    "* `KitType`: A kit's type determines the mix of products contained within it.\n",
    "* `KitPurchasePrice`: The purchase price of the kit.\n",
    "* `KitPurchaseSalesPerson`: The distribution channel through which the customer purchased the kit. One of `DIRECT`, `DEALER`, or `WEB`.\n",
    "* `CustomerIsCorporate`: Some customers are associate with each other through a larger organization known as a corporation.\n",
    "* `PreviousRefillsAmount`: The sum of the cost of all previous refills for this kit.\n",
    "* `DaysSinceLastRefill`: The number of days since the last refill.\n",
    "* `DaysSinceKitPurchase`: The number of days since the kit was purchased.\n",
    "\n",
    "## Problem Discussion\n",
    "The target column, `ServiceLevelChange`, can be one of `No change`, `Downgraded`, or `Deactivated` and represents the service level change of the kit in the 45 days following the refill. As such, this is a multiclass classification problem. Moreover, as will be explored below, the classes are heavily unbalanced with nearly 98% of the samples belonging to the `No change` class. The choice of performance metric will therefore be critical, as many common metrics perform poorly with unbalanced classes. Finally, due to data integrity issues, purchase information is not available for many kits and will need to be imputed."
   ]
  },
  {
   "cell_type": "code",
   "execution_count": 37,
   "metadata": {
    "collapsed": false
   },
   "outputs": [
    {
     "data": {
      "text/html": [
       "<div>\n",
       "<table border=\"1\" class=\"dataframe\">\n",
       "  <thead>\n",
       "    <tr style=\"text-align: right;\">\n",
       "      <th></th>\n",
       "      <th>RefillNumber</th>\n",
       "      <th>RefillAmount</th>\n",
       "      <th>AdvancedNotified</th>\n",
       "      <th>KitType</th>\n",
       "      <th>KitPurchasePrice</th>\n",
       "      <th>KitPurchaseSalesPerson</th>\n",
       "      <th>CustomerIsCorporate</th>\n",
       "      <th>PreviousRefillsAmount</th>\n",
       "      <th>DaysSinceLastRefill</th>\n",
       "      <th>DaysSinceKitPurchase</th>\n",
       "      <th>ServiceLevelChange</th>\n",
       "    </tr>\n",
       "  </thead>\n",
       "  <tbody>\n",
       "    <tr>\n",
       "      <th>0</th>\n",
       "      <td>18</td>\n",
       "      <td>255.5</td>\n",
       "      <td>1</td>\n",
       "      <td>G</td>\n",
       "      <td>NaN</td>\n",
       "      <td>NaN</td>\n",
       "      <td>0</td>\n",
       "      <td>3789.89</td>\n",
       "      <td>250</td>\n",
       "      <td>3217</td>\n",
       "      <td>No change</td>\n",
       "    </tr>\n",
       "    <tr>\n",
       "      <th>1</th>\n",
       "      <td>23</td>\n",
       "      <td>323.4</td>\n",
       "      <td>1</td>\n",
       "      <td>K</td>\n",
       "      <td>NaN</td>\n",
       "      <td>NaN</td>\n",
       "      <td>0</td>\n",
       "      <td>5302.89</td>\n",
       "      <td>94</td>\n",
       "      <td>3163</td>\n",
       "      <td>No change</td>\n",
       "    </tr>\n",
       "    <tr>\n",
       "      <th>2</th>\n",
       "      <td>18</td>\n",
       "      <td>336.8</td>\n",
       "      <td>0</td>\n",
       "      <td>G</td>\n",
       "      <td>NaN</td>\n",
       "      <td>NaN</td>\n",
       "      <td>0</td>\n",
       "      <td>3477.80</td>\n",
       "      <td>188</td>\n",
       "      <td>3121</td>\n",
       "      <td>No change</td>\n",
       "    </tr>\n",
       "  </tbody>\n",
       "</table>\n",
       "</div>"
      ],
      "text/plain": [
       "   RefillNumber  RefillAmount AdvancedNotified KitType  KitPurchasePrice  \\\n",
       "0            18         255.5                1       G               NaN   \n",
       "1            23         323.4                1       K               NaN   \n",
       "2            18         336.8                0       G               NaN   \n",
       "\n",
       "  KitPurchaseSalesPerson CustomerIsCorporate  PreviousRefillsAmount  \\\n",
       "0                    NaN                   0                3789.89   \n",
       "1                    NaN                   0                5302.89   \n",
       "2                    NaN                   0                3477.80   \n",
       "\n",
       "   DaysSinceLastRefill  DaysSinceKitPurchase ServiceLevelChange  \n",
       "0                  250                  3217          No change  \n",
       "1                   94                  3163          No change  \n",
       "2                  188                  3121          No change  "
      ]
     },
     "metadata": {},
     "output_type": "display_data"
    },
    {
     "data": {
      "text/html": [
       "<div>\n",
       "<table border=\"1\" class=\"dataframe\">\n",
       "  <thead>\n",
       "    <tr style=\"text-align: right;\">\n",
       "      <th></th>\n",
       "      <th>RefillNumber</th>\n",
       "      <th>RefillAmount</th>\n",
       "      <th>KitPurchasePrice</th>\n",
       "      <th>PreviousRefillsAmount</th>\n",
       "      <th>DaysSinceLastRefill</th>\n",
       "      <th>DaysSinceKitPurchase</th>\n",
       "    </tr>\n",
       "  </thead>\n",
       "  <tbody>\n",
       "    <tr>\n",
       "      <th>count</th>\n",
       "      <td>47755.000000</td>\n",
       "      <td>47755.000000</td>\n",
       "      <td>35350.000000</td>\n",
       "      <td>47755.000000</td>\n",
       "      <td>44667.000000</td>\n",
       "      <td>47755.000000</td>\n",
       "    </tr>\n",
       "    <tr>\n",
       "      <th>mean</th>\n",
       "      <td>8.749702</td>\n",
       "      <td>223.675246</td>\n",
       "      <td>376.732818</td>\n",
       "      <td>1684.394852</td>\n",
       "      <td>120.098731</td>\n",
       "      <td>1914.410931</td>\n",
       "    </tr>\n",
       "    <tr>\n",
       "      <th>std</th>\n",
       "      <td>5.658008</td>\n",
       "      <td>164.792918</td>\n",
       "      <td>315.807762</td>\n",
       "      <td>1131.699327</td>\n",
       "      <td>106.832913</td>\n",
       "      <td>1807.472788</td>\n",
       "    </tr>\n",
       "    <tr>\n",
       "      <th>min</th>\n",
       "      <td>1.000000</td>\n",
       "      <td>29.450000</td>\n",
       "      <td>0.000000</td>\n",
       "      <td>0.000000</td>\n",
       "      <td>0.000000</td>\n",
       "      <td>0.000000</td>\n",
       "    </tr>\n",
       "    <tr>\n",
       "      <th>25%</th>\n",
       "      <td>4.000000</td>\n",
       "      <td>75.500000</td>\n",
       "      <td>120.800000</td>\n",
       "      <td>703.440000</td>\n",
       "      <td>63.000000</td>\n",
       "      <td>943.000000</td>\n",
       "    </tr>\n",
       "    <tr>\n",
       "      <th>50%</th>\n",
       "      <td>8.000000</td>\n",
       "      <td>141.700000</td>\n",
       "      <td>333.350000</td>\n",
       "      <td>1686.750000</td>\n",
       "      <td>99.000000</td>\n",
       "      <td>1412.000000</td>\n",
       "    </tr>\n",
       "    <tr>\n",
       "      <th>75%</th>\n",
       "      <td>12.000000</td>\n",
       "      <td>322.610000</td>\n",
       "      <td>533.490000</td>\n",
       "      <td>2351.930000</td>\n",
       "      <td>154.000000</td>\n",
       "      <td>1947.000000</td>\n",
       "    </tr>\n",
       "    <tr>\n",
       "      <th>max</th>\n",
       "      <td>31.000000</td>\n",
       "      <td>1194.060000</td>\n",
       "      <td>3144.950000</td>\n",
       "      <td>7272.910000</td>\n",
       "      <td>2872.000000</td>\n",
       "      <td>42464.000000</td>\n",
       "    </tr>\n",
       "  </tbody>\n",
       "</table>\n",
       "</div>"
      ],
      "text/plain": [
       "       RefillNumber  RefillAmount  KitPurchasePrice  PreviousRefillsAmount  \\\n",
       "count  47755.000000  47755.000000      35350.000000           47755.000000   \n",
       "mean       8.749702    223.675246        376.732818            1684.394852   \n",
       "std        5.658008    164.792918        315.807762            1131.699327   \n",
       "min        1.000000     29.450000          0.000000               0.000000   \n",
       "25%        4.000000     75.500000        120.800000             703.440000   \n",
       "50%        8.000000    141.700000        333.350000            1686.750000   \n",
       "75%       12.000000    322.610000        533.490000            2351.930000   \n",
       "max       31.000000   1194.060000       3144.950000            7272.910000   \n",
       "\n",
       "       DaysSinceLastRefill  DaysSinceKitPurchase  \n",
       "count         44667.000000          47755.000000  \n",
       "mean            120.098731           1914.410931  \n",
       "std             106.832913           1807.472788  \n",
       "min               0.000000              0.000000  \n",
       "25%              63.000000            943.000000  \n",
       "50%              99.000000           1412.000000  \n",
       "75%             154.000000           1947.000000  \n",
       "max            2872.000000          42464.000000  "
      ]
     },
     "metadata": {},
     "output_type": "display_data"
    },
    {
     "data": {
      "text/html": [
       "<div>\n",
       "<table border=\"1\" class=\"dataframe\">\n",
       "  <thead>\n",
       "    <tr style=\"text-align: right;\">\n",
       "      <th></th>\n",
       "      <th>AdvancedNotified</th>\n",
       "      <th>KitType</th>\n",
       "      <th>KitPurchaseSalesPerson</th>\n",
       "      <th>CustomerIsCorporate</th>\n",
       "      <th>ServiceLevelChange</th>\n",
       "    </tr>\n",
       "  </thead>\n",
       "  <tbody>\n",
       "    <tr>\n",
       "      <th>count</th>\n",
       "      <td>47755</td>\n",
       "      <td>47755</td>\n",
       "      <td>35350</td>\n",
       "      <td>47755</td>\n",
       "      <td>47755</td>\n",
       "    </tr>\n",
       "    <tr>\n",
       "      <th>unique</th>\n",
       "      <td>2</td>\n",
       "      <td>20</td>\n",
       "      <td>3</td>\n",
       "      <td>2</td>\n",
       "      <td>3</td>\n",
       "    </tr>\n",
       "    <tr>\n",
       "      <th>top</th>\n",
       "      <td>0</td>\n",
       "      <td>J</td>\n",
       "      <td>DIRECT</td>\n",
       "      <td>0</td>\n",
       "      <td>No change</td>\n",
       "    </tr>\n",
       "    <tr>\n",
       "      <th>freq</th>\n",
       "      <td>25721</td>\n",
       "      <td>22336</td>\n",
       "      <td>27674</td>\n",
       "      <td>41365</td>\n",
       "      <td>46677</td>\n",
       "    </tr>\n",
       "  </tbody>\n",
       "</table>\n",
       "</div>"
      ],
      "text/plain": [
       "        AdvancedNotified KitType KitPurchaseSalesPerson  CustomerIsCorporate  \\\n",
       "count              47755   47755                  35350                47755   \n",
       "unique                 2      20                      3                    2   \n",
       "top                    0       J                 DIRECT                    0   \n",
       "freq               25721   22336                  27674                41365   \n",
       "\n",
       "       ServiceLevelChange  \n",
       "count               47755  \n",
       "unique                  3  \n",
       "top             No change  \n",
       "freq                46677  "
      ]
     },
     "metadata": {},
     "output_type": "display_data"
    }
   ],
   "source": [
    "# Import refill data\n",
    "import numpy as np\n",
    "import pandas as pd\n",
    "from IPython.display import display\n",
    "refill_data = pd.read_csv('refill_data.csv')\n",
    "category_columns = ['AdvancedNotified', 'KitType', 'KitPurchaseSalesPerson', 'CustomerIsCorporate', 'ServiceLevelChange']\n",
    "for column in category_columns:\n",
    "    refill_data[column] = refill_data[column].astype('object')\n",
    "display(refill_data.head(3))\n",
    "display(refill_data.describe())\n",
    "display(refill_data[category_columns].describe())"
   ]
  },
  {
   "cell_type": "code",
   "execution_count": 38,
   "metadata": {
    "collapsed": false
   },
   "outputs": [
    {
     "name": "stdout",
     "output_type": "stream",
     "text": [
      "(47755, 10)\n",
      "(47755,)\n"
     ]
    }
   ],
   "source": [
    "# Separate data into features (X) and target (y)\n",
    "X_raw = refill_data[list(refill_data.columns[:-1])]\n",
    "y_all = refill_data[refill_data.columns[-1]]\n",
    "print X_raw.shape\n",
    "print y_all.shape"
   ]
  },
  {
   "cell_type": "code",
   "execution_count": 39,
   "metadata": {
    "collapsed": false
   },
   "outputs": [
    {
     "name": "stdout",
     "output_type": "stream",
     "text": [
      "Total refills: 47755\n",
      "Service level changes within 45 days of refill:\n"
     ]
    },
    {
     "data": {
      "text/plain": [
       "No change      97.742645\n",
       "Downgraded      1.972568\n",
       "Deactivated     0.284787\n",
       "Name: ServiceLevelChange, dtype: float64"
      ]
     },
     "metadata": {},
     "output_type": "display_data"
    }
   ],
   "source": [
    "# Investigate problem severity\n",
    "from IPython.display import display\n",
    "print \"Total refills: {}\".format(y_all.count())\n",
    "print \"Service level changes within 45 days of refill:\"\n",
    "display(100*y_all.value_counts()/y_all.count())"
   ]
  },
  {
   "cell_type": "code",
   "execution_count": 96,
   "metadata": {
    "collapsed": false
   },
   "outputs": [
    {
     "data": {
      "image/png": "[encoded data removed]",
      "text/plain": [
       "<matplotlib.figure.Figure at 0x7f2db0290250>"
      ]
     },
     "metadata": {},
     "output_type": "display_data"
    },
    {
     "data": {
      "image/png": "[encoded data removed]",
      "text/plain": [
       "<matplotlib.figure.Figure at 0x7f2db89d9d10>"
      ]
     },
     "metadata": {},
     "output_type": "display_data"
    },
    {
     "data": {
      "image/png": "[encoded data removed]",
      "text/plain": [
       "<matplotlib.figure.Figure at 0x7f2db0a811d0>"
      ]
     },
     "metadata": {},
     "output_type": "display_data"
    },
    {
     "data": {
      "image/png": "[encoded data removed]",
      "text/plain": [
       "<matplotlib.figure.Figure at 0x7f2dafffaa50>"
      ]
     },
     "metadata": {},
     "output_type": "display_data"
    },
    {
     "data": {
      "image/png": "[encoded data removed]",
      "text/plain": [
       "<matplotlib.figure.Figure at 0x7f2db01938d0>"
      ]
     },
     "metadata": {},
     "output_type": "display_data"
    },
    {
     "data": {
      "image/png": "[encoded data removed]",
      "text/plain": [
       "<matplotlib.figure.Figure at 0x7f2db02bb250>"
      ]
     },
     "metadata": {},
     "output_type": "display_data"
    },
    {
     "data": {
      "image/png": "[encoded data removed]",
      "text/plain": [
       "<matplotlib.figure.Figure at 0x7f2db0456790>"
      ]
     },
     "metadata": {},
     "output_type": "display_data"
    },
    {
     "data": {
      "image/png": "[encoded data removed]",
      "text/plain": [
       "<matplotlib.figure.Figure at 0x7f2daffcf7d0>"
      ]
     },
     "metadata": {},
     "output_type": "display_data"
    },
    {
     "data": {
      "image/png": "[encoded data removed]",
      "text/plain": [
       "<matplotlib.figure.Figure at 0x7f2daffcfe10>"
      ]
     },
     "metadata": {},
     "output_type": "display_data"
    },
    {
     "data": {
      "image/png": "[encoded data removed]",
      "text/plain": [
       "<matplotlib.figure.Figure at 0x7f2db0c426d0>"
      ]
     },
     "metadata": {},
     "output_type": "display_data"
    }
   ],
   "source": [
    "import matplotlib.pyplot as plt\n",
    "%matplotlib inline\n",
    "for col, col_data in X_raw.iteritems():\n",
    "    if col in category_columns:\n",
    "        values = [x for x in col_data.unique() if x == x]\n",
    "        index = np.arange(len(values))\n",
    "        counts = list(col_data[col_data == value].count() for value in values)\n",
    "        bar_width = 0.2\n",
    "        \n",
    "        plt.bar(index, counts)\n",
    "        plt.xticks(index + bar_width, values)\n",
    "    else:\n",
    "        bins = range(col_data.max() + 1) if len(col_data.unique()) < 100 else 100\n",
    "        plot_data = [x for x in col_data.values if not np.isnan(x)]\n",
    "        plt.hist(plot_data, bins=bins, range=[0, min(col_data.max(), col_data.mean() + 3*col_data.std())])\n",
    "    plt.title(col)\n",
    "    plt.ylabel(\"Count\")\n",
    "    plt.show()"
   ]
  },
  {
   "cell_type": "code",
   "execution_count": 36,
   "metadata": {
    "collapsed": false
   },
   "outputs": [
    {
     "ename": "ValueError",
     "evalue": "could not convert string to float: DEALER",
     "output_type": "error",
     "traceback": [
      "\u001b[1;31m\u001b[0m",
      "\u001b[1;31mValueError\u001b[0mTraceback (most recent call last)",
      "\u001b[1;32m<ipython-input-36-9989fd3f254e>\u001b[0m in \u001b[0;36m<module>\u001b[1;34m()\u001b[0m\n\u001b[0;32m     14\u001b[0m \u001b[1;31m# Impute numerical with mean, categorical with mode\u001b[0m\u001b[1;33m\u001b[0m\u001b[1;33m\u001b[0m\u001b[0m\n\u001b[0;32m     15\u001b[0m \u001b[1;31m# Transform DaysSinceLastRefill to reciprocal, fill NULL with 0\u001b[0m\u001b[1;33m\u001b[0m\u001b[1;33m\u001b[0m\u001b[0m\n\u001b[1;32m---> 16\u001b[1;33m \u001b[0mX_all\u001b[0m \u001b[1;33m=\u001b[0m \u001b[0mpd\u001b[0m\u001b[1;33m.\u001b[0m\u001b[0mDataFrame\u001b[0m\u001b[1;33m(\u001b[0m\u001b[0mImputer\u001b[0m\u001b[1;33m(\u001b[0m\u001b[1;33m)\u001b[0m\u001b[1;33m.\u001b[0m\u001b[0mfit_transform\u001b[0m\u001b[1;33m(\u001b[0m\u001b[0mX_encoded\u001b[0m\u001b[1;33m)\u001b[0m\u001b[1;33m,\u001b[0m \u001b[0mindex\u001b[0m\u001b[1;33m=\u001b[0m\u001b[0mX_encoded\u001b[0m\u001b[1;33m.\u001b[0m\u001b[0mindex\u001b[0m\u001b[1;33m,\u001b[0m \u001b[0mcolumns\u001b[0m\u001b[1;33m=\u001b[0m\u001b[0mX_encoded\u001b[0m\u001b[1;33m.\u001b[0m\u001b[0mcolumns\u001b[0m\u001b[1;33m)\u001b[0m\u001b[1;33m\u001b[0m\u001b[0m\n\u001b[0m\u001b[0;32m     17\u001b[0m \u001b[0mX_all\u001b[0m\u001b[1;33m.\u001b[0m\u001b[0mhead\u001b[0m\u001b[1;33m(\u001b[0m\u001b[1;33m)\u001b[0m\u001b[1;33m\u001b[0m\u001b[0m\n",
      "\u001b[1;32m/opt/conda/envs/python2/lib/python2.7/site-packages/sklearn/base.pyc\u001b[0m in \u001b[0;36mfit_transform\u001b[1;34m(self, X, y, **fit_params)\u001b[0m\n\u001b[0;32m    453\u001b[0m         \u001b[1;32mif\u001b[0m \u001b[0my\u001b[0m \u001b[1;32mis\u001b[0m \u001b[0mNone\u001b[0m\u001b[1;33m:\u001b[0m\u001b[1;33m\u001b[0m\u001b[0m\n\u001b[0;32m    454\u001b[0m             \u001b[1;31m# fit method of arity 1 (unsupervised transformation)\u001b[0m\u001b[1;33m\u001b[0m\u001b[1;33m\u001b[0m\u001b[0m\n\u001b[1;32m--> 455\u001b[1;33m             \u001b[1;32mreturn\u001b[0m \u001b[0mself\u001b[0m\u001b[1;33m.\u001b[0m\u001b[0mfit\u001b[0m\u001b[1;33m(\u001b[0m\u001b[0mX\u001b[0m\u001b[1;33m,\u001b[0m \u001b[1;33m**\u001b[0m\u001b[0mfit_params\u001b[0m\u001b[1;33m)\u001b[0m\u001b[1;33m.\u001b[0m\u001b[0mtransform\u001b[0m\u001b[1;33m(\u001b[0m\u001b[0mX\u001b[0m\u001b[1;33m)\u001b[0m\u001b[1;33m\u001b[0m\u001b[0m\n\u001b[0m\u001b[0;32m    456\u001b[0m         \u001b[1;32melse\u001b[0m\u001b[1;33m:\u001b[0m\u001b[1;33m\u001b[0m\u001b[0m\n\u001b[0;32m    457\u001b[0m             \u001b[1;31m# fit method of arity 2 (supervised transformation)\u001b[0m\u001b[1;33m\u001b[0m\u001b[1;33m\u001b[0m\u001b[0m\n",
      "\u001b[1;32m/opt/conda/envs/python2/lib/python2.7/site-packages/sklearn/preprocessing/imputation.pyc\u001b[0m in \u001b[0;36mfit\u001b[1;34m(self, X, y)\u001b[0m\n\u001b[0;32m    154\u001b[0m         \u001b[1;32mif\u001b[0m \u001b[0mself\u001b[0m\u001b[1;33m.\u001b[0m\u001b[0maxis\u001b[0m \u001b[1;33m==\u001b[0m \u001b[1;36m0\u001b[0m\u001b[1;33m:\u001b[0m\u001b[1;33m\u001b[0m\u001b[0m\n\u001b[0;32m    155\u001b[0m             X = check_array(X, accept_sparse='csc', dtype=np.float64,\n\u001b[1;32m--> 156\u001b[1;33m                             force_all_finite=False)\n\u001b[0m\u001b[0;32m    157\u001b[0m \u001b[1;33m\u001b[0m\u001b[0m\n\u001b[0;32m    158\u001b[0m             \u001b[1;32mif\u001b[0m \u001b[0msparse\u001b[0m\u001b[1;33m.\u001b[0m\u001b[0missparse\u001b[0m\u001b[1;33m(\u001b[0m\u001b[0mX\u001b[0m\u001b[1;33m)\u001b[0m\u001b[1;33m:\u001b[0m\u001b[1;33m\u001b[0m\u001b[0m\n",
      "\u001b[1;32m/opt/conda/envs/python2/lib/python2.7/site-packages/sklearn/utils/validation.pyc\u001b[0m in \u001b[0;36mcheck_array\u001b[1;34m(array, accept_sparse, dtype, order, copy, force_all_finite, ensure_2d, allow_nd, ensure_min_samples, ensure_min_features, warn_on_dtype, estimator)\u001b[0m\n\u001b[0;32m    371\u001b[0m                                       force_all_finite)\n\u001b[0;32m    372\u001b[0m     \u001b[1;32melse\u001b[0m\u001b[1;33m:\u001b[0m\u001b[1;33m\u001b[0m\u001b[0m\n\u001b[1;32m--> 373\u001b[1;33m         \u001b[0marray\u001b[0m \u001b[1;33m=\u001b[0m \u001b[0mnp\u001b[0m\u001b[1;33m.\u001b[0m\u001b[0marray\u001b[0m\u001b[1;33m(\u001b[0m\u001b[0marray\u001b[0m\u001b[1;33m,\u001b[0m \u001b[0mdtype\u001b[0m\u001b[1;33m=\u001b[0m\u001b[0mdtype\u001b[0m\u001b[1;33m,\u001b[0m \u001b[0morder\u001b[0m\u001b[1;33m=\u001b[0m\u001b[0morder\u001b[0m\u001b[1;33m,\u001b[0m \u001b[0mcopy\u001b[0m\u001b[1;33m=\u001b[0m\u001b[0mcopy\u001b[0m\u001b[1;33m)\u001b[0m\u001b[1;33m\u001b[0m\u001b[0m\n\u001b[0m\u001b[0;32m    374\u001b[0m \u001b[1;33m\u001b[0m\u001b[0m\n\u001b[0;32m    375\u001b[0m         \u001b[1;32mif\u001b[0m \u001b[0mensure_2d\u001b[0m\u001b[1;33m:\u001b[0m\u001b[1;33m\u001b[0m\u001b[0m\n",
      "\u001b[1;31mValueError\u001b[0m: could not convert string to float: DEALER"
     ]
    }
   ],
   "source": [
    "# Preprocess features\n",
    "from sklearn.preprocessing import Imputer\n",
    "\n",
    "# Split categorical features into multiple binary columns\n",
    "X_encoded = pd.DataFrame(index=X_raw.index)\n",
    "\n",
    "for col, col_data in X_raw.iteritems():\n",
    "    if col_data.dtype == object:\n",
    "        col_data = pd.get_dummies(col_data, prefix=col)\n",
    "    X_encoded = X_encoded.join(col_data)\n",
    "    \n",
    "# TODO\n",
    "# Split by class to impute values\n",
    "# Impute numerical with mean, categorical with mode\n",
    "# Transform DaysSinceLastRefill to reciprocal, fill NULL with 0\n",
    "X_all = pd.DataFrame(Imputer().fit_transform(X_encoded), index=X_encoded.index, columns=X_encoded.columns)\n",
    "X_all.head()"
   ]
  },
  {
   "cell_type": "code",
   "execution_count": 32,
   "metadata": {
    "collapsed": false
   },
   "outputs": [],
   "source": [
    "# Encode target labels\n",
    "# from sklearn.preprocessing import LabelEncoder\n",
    "# le = LabelEncoder()\n",
    "# y_all = le.fit_transform(y_raw)\n",
    "# class_names = le.classes_\n",
    "# print class_names\n",
    "# print le.transform(class_names)"
   ]
  },
  {
   "cell_type": "code",
   "execution_count": 10,
   "metadata": {
    "collapsed": false
   },
   "outputs": [
    {
     "name": "stderr",
     "output_type": "stream",
     "text": [
      "/opt/conda/envs/python2/lib/python2.7/site-packages/sklearn/metrics/classification.py:1074: UndefinedMetricWarning: F-score is ill-defined and being set to 0.0 due to no predicted samples.\n",
      "  'precision', 'predicted', average, warn_for)\n"
     ]
    },
    {
     "data": {
      "text/html": [
       "<div>\n",
       "<table border=\"1\" class=\"dataframe\">\n",
       "  <thead>\n",
       "    <tr style=\"text-align: right;\">\n",
       "      <th></th>\n",
       "      <th>classifier</th>\n",
       "      <th>train_kappa</th>\n",
       "      <th>train_f1</th>\n",
       "    </tr>\n",
       "  </thead>\n",
       "  <tbody>\n",
       "    <tr>\n",
       "      <th>0</th>\n",
       "      <td>LinearSVC</td>\n",
       "      <td>0.000000</td>\n",
       "      <td>0.000000</td>\n",
       "    </tr>\n",
       "    <tr>\n",
       "      <th>1</th>\n",
       "      <td>DecisionTreeClassifier</td>\n",
       "      <td>0.044146</td>\n",
       "      <td>0.059007</td>\n",
       "    </tr>\n",
       "    <tr>\n",
       "      <th>2</th>\n",
       "      <td>KNeighborsClassifier</td>\n",
       "      <td>0.002973</td>\n",
       "      <td>0.004453</td>\n",
       "    </tr>\n",
       "    <tr>\n",
       "      <th>3</th>\n",
       "      <td>AdaBoostClassifier</td>\n",
       "      <td>-0.000049</td>\n",
       "      <td>0.000000</td>\n",
       "    </tr>\n",
       "    <tr>\n",
       "      <th>4</th>\n",
       "      <td>RandomForestClassifier</td>\n",
       "      <td>0.032067</td>\n",
       "      <td>0.052388</td>\n",
       "    </tr>\n",
       "  </tbody>\n",
       "</table>\n",
       "</div>"
      ],
      "text/plain": [
       "               classifier  train_kappa  train_f1\n",
       "0               LinearSVC     0.000000  0.000000\n",
       "1  DecisionTreeClassifier     0.044146  0.059007\n",
       "2    KNeighborsClassifier     0.002973  0.004453\n",
       "3      AdaBoostClassifier    -0.000049  0.000000\n",
       "4  RandomForestClassifier     0.032067  0.052388"
      ]
     },
     "metadata": {},
     "output_type": "display_data"
    }
   ],
   "source": [
    "# Train classifier\n",
    "from sklearn.metrics import cohen_kappa_score, f1_score, make_scorer\n",
    "from sklearn.cross_validation import train_test_split, cross_val_score\n",
    "from sklearn.tree import DecisionTreeClassifier\n",
    "from sklearn.svm import LinearSVC\n",
    "from sklearn.neighbors import KNeighborsClassifier\n",
    "from sklearn.ensemble import AdaBoostClassifier, RandomForestClassifier\n",
    "\n",
    "kappa_scorer = make_scorer(cohen_kappa_score)\n",
    "f1_scorer = make_scorer(f1_score, labels=['Deactivated', 'Downgraded'], average='micro')\n",
    "    \n",
    "results = []\n",
    "classifiers = [\n",
    "    LinearSVC(dual=False),\n",
    "    DecisionTreeClassifier(),\n",
    "    KNeighborsClassifier(),\n",
    "    AdaBoostClassifier(),\n",
    "    RandomForestClassifier()\n",
    "]\n",
    "X_train, X_test, y_train, y_test = train_test_split(X_all, y_all, test_size=0.2, stratify=y_all)\n",
    "for clf in classifiers:\n",
    "    classifier = clf.__class__.__name__\n",
    "    train_kappa = cross_val_score(clf, X_train, y_train, scoring=kappa_scorer)\n",
    "    train_f1 = cross_val_score(clf, X_train, y_train, scoring=f1_scorer)\n",
    "    results.append([classifier, train_kappa.mean(), train_f1.mean()])\n",
    "    \n",
    "results = pd.DataFrame(\n",
    "    data = results,\n",
    "    columns = [\n",
    "        'classifier',\n",
    "        'train_kappa',\n",
    "        'train_f1'\n",
    "    ]\n",
    ")\n",
    "\n",
    "display(results)"
   ]
  },
  {
   "cell_type": "code",
   "execution_count": null,
   "metadata": {
    "collapsed": true
   },
   "outputs": [],
   "source": []
  }
 ],
 "metadata": {
  "kernelspec": {
   "display_name": "Python 2",
   "language": "python",
   "name": "python2"
  },
  "language_info": {
   "codemirror_mode": {
    "name": "ipython",
    "version": 2
   },
   "file_extension": ".py",
   "mimetype": "text/x-python",
   "name": "python",
   "nbconvert_exporter": "python",
   "pygments_lexer": "ipython2",
   "version": "2.7.11"
  },
  "widgets": {
   "state": {},
   "version": "1.1.2"
  }
 },
 "nbformat": 4,
 "nbformat_minor": 0
}
